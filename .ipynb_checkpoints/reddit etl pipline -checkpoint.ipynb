{
 "cells": [
  {
   "cell_type": "markdown",
   "id": "77391884-bbd6-4a88-a427-218d1e613e1a",
   "metadata": {},
   "source": [
    "CLIENT_ID='YgRFXQ1ObuKm3IqUVQXYtA'\n",
    "SECRET_ID='SMj-kUlpU4Gi2QD3lEBHz_5KpqYPNw'\n",
    "# These are like your username and password for accessing Reddit's API. They identify your application to Reddit.\n",
    "\n",
    "import requests\n",
    "# This line imports the requests library, which allows the script to make HTTP requests to web services like Reddit's API.\n",
    "\n",
    "auth=requests.auth.HTTPBasicAuth(CLIENT_ID,SECRET_ID)\n",
    "# This creates an authentication object using your Client ID and Secret Key. It tells Reddit who you are.\n",
    "\n",
    "data={\n",
    "    'grant_type':'password',\n",
    "    'username':'andro-jerson',\n",
    "    'password':'W#qN*5BX97C+K6_'\n",
    "}\n",
    "# This creates a dictionary with your Reddit username and password.'grant_type':'password' specifies that you are using a password to authenticate.\n",
    "\n",
    "headers={'User-Agent':'MyAPI/0.0.1'}\n",
    "# This sets a custom User-Agent string, which is a way to identify your application when making requests to Reddit. \n",
    "# \"MyAPI/0.0.1\" is just an example name/version for your app.There can be another version as MyAPI/0.0.2\n",
    "\n",
    "resp=requests.post('https://www.reddit.com/api/v1/access_token',auth=auth,data=data,headers=headers)\n",
    "# This sends a POST request to Reddit's API to get an access token. It includes the authentication details, your username and password, and the custom headers.\n",
    "\n",
    "resp.json()\n",
    "\n",
    "Once the script runs, it gets back an \"access token\", which you can use to make further requests to Reddit's API. This token proves that you have successfully logged in and are allowed to access other parts of the API."
   ]
  },
  {
   "cell_type": "code",
   "execution_count": null,
   "id": "8403b6ab-2b17-4daa-9aba-350546d65713",
   "metadata": {},
   "outputs": [],
   "source": [
    "import praw"
   ]
  },
  {
   "cell_type": "code",
   "execution_count": null,
   "id": "b2d6b5f7-c92a-408e-915c-06bd7766adf7",
   "metadata": {},
   "outputs": [],
   "source": [
    "client_id='YgRFXQ1ObuKm3IqUVQXYtA'\n",
    "client_secret='SMj-kUlpU4Gi2QD3lEBHz_5KpqYPNw'\n",
    "username='andro-jerson'\n",
    "password='W#qN*5BX97C+K6_'\n",
    "user_agent='MyAPI/0.0.1'\n"
   ]
  },
  {
   "cell_type": "code",
   "execution_count": null,
   "id": "c7588295-fbd7-402f-8c88-539103c1e3a3",
   "metadata": {},
   "outputs": [],
   "source": [
    "reddit=praw.Reddit(\n",
    "    client_id=client_id,\n",
    "    client_secret=client_secret,\n",
    "    username=username,\n",
    "    password=password,\n",
    "    user_agent=user_agent)"
   ]
  },
  {
   "cell_type": "code",
   "execution_count": null,
   "id": "4f250a09-0901-4ca4-b735-6956d35a67a4",
   "metadata": {},
   "outputs": [],
   "source": [
    "reddit"
   ]
  },
  {
   "cell_type": "code",
   "execution_count": null,
   "id": "0a8baf14-3e3e-4fda-ae4e-a3b583086353",
   "metadata": {},
   "outputs": [],
   "source": [
    "print(reddit.read_only)"
   ]
  },
  {
   "cell_type": "code",
   "execution_count": null,
   "id": "7d8a18c9-d61a-44df-8c78-26b9021e8495",
   "metadata": {},
   "outputs": [],
   "source": [
    "subreddit=reddit.subreddit('all')"
   ]
  },
  {
   "cell_type": "code",
   "execution_count": null,
   "id": "785cc280-92fc-428b-bd6e-51c18c90c6a3",
   "metadata": {},
   "outputs": [],
   "source": [
    "print(subreddit.title)"
   ]
  },
  {
   "cell_type": "code",
   "execution_count": 31,
   "id": "4e7ef6b5-a3f0-4095-a1f1-871ac1607d3d",
   "metadata": {},
   "outputs": [
    {
     "name": "stdout",
     "output_type": "stream",
     "text": [
      "all\n"
     ]
    }
   ],
   "source": [
    "print(subreddit.display_name)"
   ]
  },
  {
   "cell_type": "code",
   "execution_count": null,
   "id": "0a89bfa3-0600-4984-b165-e36daddc80cd",
   "metadata": {},
   "outputs": [],
   "source": [
    "print(subreddit.description)"
   ]
  },
  {
   "cell_type": "code",
   "execution_count": null,
   "id": "8ed7f648-1f17-40b7-b743-31170639a2ac",
   "metadata": {},
   "outputs": [],
   "source": [
    "redditor=reddit.redditor('andro-jerson')"
   ]
  },
  {
   "cell_type": "code",
   "execution_count": null,
   "id": "db1d45e1-96c3-4db2-bc8c-a2c5d9f5fbc4",
   "metadata": {},
   "outputs": [],
   "source": [
    "print(redditor.link_karma)"
   ]
  },
  {
   "cell_type": "code",
   "execution_count": 30,
   "id": "732cd7cf-c7e4-4ebb-b63a-5a4e7c91f7c8",
   "metadata": {},
   "outputs": [
    {
     "name": "stdout",
     "output_type": "stream",
     "text": [
      "Giving up data engineering https://www.reddit.com/r/dataengineering/comments/1b67xnz/giving_up_data_engineering/ Two_5536 176 1709548923.0\n",
      "Is data science/data engineering over saturated? https://www.reddit.com/r/datascience/comments/15p8n46/is_data_sciencedata_engineering_over_saturated/ unluckyowl4 224 1691857001.0\n",
      "Is data engineering the next data science? https://www.reddit.com/r/dataengineering/comments/14syob6/is_data_engineering_the_next_data_science/ scriptosens 75 1688710904.0\n",
      "Doom predictions for Data Engineering https://www.reddit.com/r/dataengineering/comments/1883wyz/doom_predictions_for_data_engineering/ vee920 134 1701408099.0\n",
      "What’s the future of the data engineering job market? https://www.reddit.com/r/dataengineering/comments/17hlscx/whats_the_future_of_the_data_engineering_job/ BestTomatillo6197 59 1698407463.0\n",
      "To my data engineers: why do you like working as a data engineer? https://www.reddit.com/r/dataengineering/comments/17fr8d5/to_my_data_engineers_why_do_you_like_working_as_a/ naq98 162 1698191519.0\n",
      "Sr. Data Engineer - 4 YOE in data engineering ( Python & SQL ) https://www.reddit.com/r/developersIndia/comments/1bntlqn/sr_data_engineer_4_yoe_in_data_engineering_python/ musicmeme 18 1711411682.0\n",
      "What are the main skills needed for Data Engineering https://www.reddit.com/r/dataengineering/comments/whh0an/what_are_the_main_skills_needed_for_data/ DrRedmondNYC 61 1659765563.0\n",
      "Data Engineering is Not Software Engineering https://betterprogramming.pub/data-engineering-is-not-software-engineering-af81eb8d3949 ryanwolfh 155 1716022228.0\n",
      "Jobsuche Data Science/Data Engineering- M. Sc. Informatik https://i.redd.it/fstawe63reec1.jpeg Decent_Cucumber6650 532 1706110710.0\n"
     ]
    }
   ],
   "source": [
    "for submission in subreddit.search('data engineering',limit=10):\n",
    "    title=submission.title\n",
    "    link=submission.url\n",
    "    author=submission.author\n",
    "    score=submission.score\n",
    "    created=submission.created\n",
    "    print(title,link,author,score,created)"
   ]
  },
  {
   "cell_type": "code",
   "execution_count": null,
   "id": "c9a8bdb1-d92d-4058-a9e0-370216d5a12f",
   "metadata": {},
   "outputs": [],
   "source": []
  }
 ],
 "metadata": {
  "kernelspec": {
   "display_name": "Python 3 (ipykernel)",
   "language": "python",
   "name": "python3"
  },
  "language_info": {
   "codemirror_mode": {
    "name": "ipython",
    "version": 3
   },
   "file_extension": ".py",
   "mimetype": "text/x-python",
   "name": "python",
   "nbconvert_exporter": "python",
   "pygments_lexer": "ipython3",
   "version": "3.11.8"
  }
 },
 "nbformat": 4,
 "nbformat_minor": 5
}
